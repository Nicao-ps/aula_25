{
 "cells": [
  {
   "cell_type": "code",
   "execution_count": 2,
   "metadata": {},
   "outputs": [
    {
     "name": "stdout",
     "output_type": "stream",
     "text": [
      "Obtendo dados do arquivo parquet...\n",
      "shape: (5, 9)\n",
      "┌────────────┬────────────┬─────┬────────────┬───┬────────────┬────────────┬───────────┬───────────┐\n",
      "│ MÊS COMPET ┆ MÊS        ┆ UF  ┆ CÓDIGO     ┆ … ┆ CPF        ┆ NIS        ┆ NOME FAVO ┆ VALOR     │\n",
      "│ ÊNCIA      ┆ REFERÊNCIA ┆ --- ┆ MUNICÍPIO  ┆   ┆ FAVORECIDO ┆ FAVORECIDO ┆ RECIDO    ┆ PARCELA   │\n",
      "│ ---        ┆ ---        ┆ cat ┆ SIAFI      ┆   ┆ ---        ┆ ---        ┆ ---       ┆ ---       │\n",
      "│ str        ┆ str        ┆     ┆ ---        ┆   ┆ str        ┆ i64        ┆ str       ┆ f64       │\n",
      "│            ┆            ┆     ┆ i64        ┆   ┆            ┆            ┆           ┆           │\n",
      "╞════════════╪════════════╪═════╪════════════╪═══╪════════════╪════════════╪═══════════╪═══════════╡\n",
      "│ 202501     ┆ 202308     ┆ SP  ┆ 7071       ┆ … ┆ ***.085.10 ┆ 2064389044 ┆ FERNANDA  ┆ 650.0     │\n",
      "│            ┆            ┆     ┆            ┆   ┆ 6-**       ┆ 5          ┆ RAMOS     ┆           │\n",
      "│            ┆            ┆     ┆            ┆   ┆            ┆            ┆ TEIXEIRA  ┆           │\n",
      "│ 202501     ┆ 202309     ┆ SP  ┆ 7071       ┆ … ┆ ***.085.10 ┆ 2064389044 ┆ FERNANDA  ┆ 650.0     │\n",
      "│            ┆            ┆     ┆            ┆   ┆ 6-**       ┆ 5          ┆ RAMOS     ┆           │\n",
      "│            ┆            ┆     ┆            ┆   ┆            ┆            ┆ TEIXEIRA  ┆           │\n",
      "│ 202501     ┆ 202310     ┆ SP  ┆ 7071       ┆ … ┆ ***.085.10 ┆ 2064389044 ┆ FERNANDA  ┆ 650.0     │\n",
      "│            ┆            ┆     ┆            ┆   ┆ 6-**       ┆ 5          ┆ RAMOS     ┆           │\n",
      "│            ┆            ┆     ┆            ┆   ┆            ┆            ┆ TEIXEIRA  ┆           │\n",
      "│ 202501     ┆ 202311     ┆ SP  ┆ 7071       ┆ … ┆ ***.085.10 ┆ 2064389044 ┆ FERNANDA  ┆ 650.0     │\n",
      "│            ┆            ┆     ┆            ┆   ┆ 6-**       ┆ 5          ┆ RAMOS     ┆           │\n",
      "│            ┆            ┆     ┆            ┆   ┆            ┆            ┆ TEIXEIRA  ┆           │\n",
      "│ 202501     ┆ 202312     ┆ SP  ┆ 7071       ┆ … ┆ ***.085.10 ┆ 2064389044 ┆ FERNANDA  ┆ 650.0     │\n",
      "│            ┆            ┆     ┆            ┆   ┆ 6-**       ┆ 5          ┆ RAMOS     ┆           │\n",
      "│            ┆            ┆     ┆            ┆   ┆            ┆            ┆ TEIXEIRA  ┆           │\n",
      "└────────────┴────────────┴─────┴────────────┴───┴────────────┴────────────┴───────────┴───────────┘\n",
      "['MÊS COMPETÊNCIA', 'MÊS REFERÊNCIA', 'UF', 'CÓDIGO MUNICÍPIO SIAFI', 'NOME MUNICÍPIO', 'CPF FAVORECIDO', 'NIS FAVORECIDO', 'NOME FAVORECIDO', 'VALOR PARCELA']\n",
      "[String, String, Categorical(ordering='physical'), Int64, Categorical(ordering='physical'), String, Int64, String, Float64]\n",
      "Tempo de execução: 0:00:16.166016\n",
      "Dados obtidos com sucesso!\n"
     ]
    }
   ],
   "source": [
    "from datetime import datetime\n",
    "import polars as pl\n",
    "import numpy as np\n",
    "import matplotlib.pyplot as plt\n",
    "import seaborn as sns\n",
    "# pip install xlsxwriter\n",
    "\n",
    "# Endereços dos Dados\n",
    "ENDERECO_DADOS = r'./../../../bronze/'\n",
    "\n",
    "\n",
    "# obtenção de dados\n",
    "try:\n",
    "    print('Obtendo dados do arquivo parquet...')\n",
    "\n",
    "    # hora de início\n",
    "    hora_inicio = datetime.now()\n",
    "\n",
    "    # retornar o plano de execução\n",
    "    df_bf_exec_plan = pl.scan_parquet(ENDERECO_DADOS + 'bolsa_familia_str_cache.parquet')\n",
    "\n",
    "    # executar o plano de execução e obter os dados\n",
    "    df_bf = df_bf_exec_plan.collect() # coletar os dados do plano de execução\n",
    "\n",
    "    print(df_bf.head())\n",
    "    print(df_bf.columns)\n",
    "    print(df_bf.dtypes)\n",
    "\n",
    "    # hora de término\n",
    "    hora_fim = datetime.now()\n",
    "\n",
    "    print(f'Tempo de execução: {hora_fim - hora_inicio}')\n",
    "\n",
    "    print('Dados obtidos com sucesso!')\n",
    "\n",
    "except Exception as e:\n",
    "    print(f'Erro ao obter dados: {e}')\n",
    "\n",
    "# Processando as informações\n",
    "try:\n",
    "    # marcar a hora de início\n",
    "    hora_inicio = datetime.now()\n",
    "\n",
    "    # Criar um array com os valores da parcela\n",
    "    array_valor_parcela = np.array(df_bf['VALOR PARCELA'])\n",
    "\n",
    "except Exception as e:\n",
    "    print(f'Erro ao obter dados: {e}')\n"
   ]
  },
  {
   "cell_type": "code",
   "execution_count": 5,
   "metadata": {},
   "outputs": [
    {
     "data": {
      "image/png": "[encoded data removed]",
      "text/plain": [
       "<Figure size 1000x600 with 1 Axes>"
      ]
     },
     "metadata": {},
     "output_type": "display_data"
    }
   ],
   "source": [
    "try:\n",
    "    # Criar o gráfico\n",
    "    plt.figure(figsize=(10, 6))\n",
    "    sns.boxplot(x=array_valor_parcela, color='blue')\n",
    "    plt.title('Distribuição do Valor da Parcela do Bolsa Família')\n",
    "    plt.xlabel('Valor da Parcela')\n",
    "    plt.grid(True)\n",
    "    plt.show()\n",
    "\n",
    "except Exception as e:\n",
    "    print(f'Erro ao criar o gráfico: {e}')\n"
   ]
  }
 ],
 "metadata": {
  "kernelspec": {
   "display_name": "venv",
   "language": "python",
   "name": "python3"
  },
  "language_info": {
   "codemirror_mode": {
    "name": "ipython",
    "version": 3
   },
   "file_extension": ".py",
   "mimetype": "text/x-python",
   "name": "python",
   "nbconvert_exporter": "python",
   "pygments_lexer": "ipython3",
   "version": "3.11.4"
  },
  "orig_nbformat": 4
 },
 "nbformat": 4,
 "nbformat_minor": 2
}
